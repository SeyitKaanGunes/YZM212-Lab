{
 "cells": [
  {
   "cell_type": "code",
   "execution_count": null,
   "id": "573160d2",
   "metadata": {},
   "outputs": [],
   "source": [
    "import pandas as pd\n",
    "import numpy as np\n",
    "from pathlib import Path\n",
    "from sklearn.model_selection import train_test_split\n",
    "from sklearn.metrics import mean_squared_error\n",
    "import matplotlib.pyplot as plt\n",
    "%matplotlib inline\n"
   ]
  },
  {
   "cell_type": "code",
   "execution_count": null,
   "id": "867c8571",
   "metadata": {},
   "outputs": [],
   "source": [
    "\n",
    "data_path = Path('data/diabetes.csv')\n",
    "df = pd.read_csv(data_path)\n",
    "X = df.drop(columns=['target']).values\n",
    "y = df['target'].values.reshape(-1, 1)\n",
    "\n",
    "\n",
    "X = np.c_[np.ones((X.shape[0], 1)), X]\n",
    "\n",
    "\n",
    "X_train, X_test, y_train, y_test = train_test_split(X, y, test_size=0.2, random_state=10)\n",
    "m, n = X_train.shape\n"
   ]
  },
  {
   "cell_type": "code",
   "execution_count": null,
   "id": "848d5cff",
   "metadata": {},
   "outputs": [],
   "source": [
    "def compute_cost(X, y, theta):\n",
    "    m = len(y)\n",
    "    return (1/(2*m)) * np.sum((X @ theta - y) ** 2)\n",
    "\n",
    "def gradient_descent(X, y, lr=0.01, n_iter=5000):\n",
    "    m, n = X.shape\n",
    "    theta = np.zeros((n, 1))\n",
    "    cost_history = []\n",
    "    for i in range(n_iter):\n",
    "        gradients = (1/m) * X.T @ (X @ theta - y)\n",
    "        theta -= lr * gradients\n",
    "        if i % 100 == 0:\n",
    "            cost_history.append(compute_cost(X, y, theta))\n",
    "    return theta, cost_history\n"
   ]
  },
  {
   "cell_type": "code",
   "execution_count": null,
   "id": "05717ceb",
   "metadata": {},
   "outputs": [],
   "source": [
    "\n",
    "theta_gd, costs = gradient_descent(X_train, y_train, lr=0.01, n_iter=10000)\n",
    "print(f\"Optimum parametreler ilk 5: {theta_gd.flatten()[:5]}\")\n"
   ]
  },
  {
   "cell_type": "code",
   "execution_count": null,
   "id": "b5e80f9f",
   "metadata": {},
   "outputs": [],
   "source": [
    "y_pred = X_test @ theta_gd\n",
    "mse_gd = mean_squared_error(y_test, y_pred)\n",
    "print(f\"Test MSE (Gradient Descent): {mse_gd:.4f}\")\n"
   ]
  },
  {
   "cell_type": "code",
   "execution_count": null,
   "id": "08f0fd89",
   "metadata": {},
   "outputs": [],
   "source": [
    "plt.plot(np.arange(len(costs))*100, costs)\n",
    "plt.xlabel(\"İterasyon\")\n",
    "plt.ylabel(\"Cost (MSE/2)\")\n",
    "plt.title(\"Gradient Descent Cost Eğrisi\")\n",
    "plt.show()\n"
   ]
  }
 ],
 "metadata": {
  "language_info": {
   "name": "python"
  }
 },
 "nbformat": 4,
 "nbformat_minor": 5
}
