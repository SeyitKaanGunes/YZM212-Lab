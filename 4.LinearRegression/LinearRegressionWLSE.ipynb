{
 "cells": [
  {
   "cell_type": "code",
   "execution_count": null,
   "id": "466127a0",
   "metadata": {},
   "outputs": [],
   "source": [
    "import pandas as pd\n",
    "import numpy as np\n",
    "from pathlib import Path\n",
    "from sklearn.model_selection import train_test_split\n",
    "from sklearn.metrics import mean_squared_error\n",
    "import matplotlib.pyplot as plt\n",
    "%matplotlib inline\n"
   ]
  },
  {
   "cell_type": "code",
   "execution_count": null,
   "id": "08b9e8bd",
   "metadata": {},
   "outputs": [],
   "source": [
    "data_path = Path('data/diabetes.csv')\n",
    "df = pd.read_csv(data_path)\n",
    "X = df.drop(columns=['target']).values\n",
    "y = df['target'].values\n",
    "\n",
    "X_train, X_test, y_train, y_test = train_test_split(X, y, test_size=0.2, random_state=10)\n"
   ]
  },
  {
   "cell_type": "code",
   "execution_count": null,
   "id": "25f235dc",
   "metadata": {},
   "outputs": [],
   "source": [
    "X_train_b = np.c_[np.ones((X_train.shape[0], 1)), X_train]\n",
    "X_test_b  = np.c_[np.ones((X_test.shape[0], 1)), X_test]\n",
    "\n",
    "theta_best = np.linalg.inv(X_train_b.T @ X_train_b) @ X_train_b.T @ y_train\n",
    "\n",
    "theta_best\n"
   ]
  },
  {
   "cell_type": "code",
   "execution_count": null,
   "id": "28761fcd",
   "metadata": {},
   "outputs": [],
   "source": [
    "y_pred = X_test_b @ theta_best\n",
    "mse = mean_squared_error(y_test, y_pred)\n",
    "print(f\"Test MSE (Closed‑Form): {mse:.4f}\")\n"
   ]
  },
  {
   "cell_type": "code",
   "execution_count": null,
   "id": "d937845b",
   "metadata": {},
   "outputs": [],
   "source": [
    "plt.scatter(y_test, y_pred)\n",
    "plt.xlabel(\"True Targets\")\n",
    "plt.ylabel(\"Predicted Targets\")\n",
    "plt.title(\"Least Squares Prediction Performance\")\n",
    "plt.plot([y_test.min(), y_test.max()], [y_test.min(), y_test.max()], 'r--')\n",
    "plt.show()\n"
   ]
  }
 ],
 "metadata": {
  "language_info": {
   "name": "python"
  }
 },
 "nbformat": 4,
 "nbformat_minor": 5
}
