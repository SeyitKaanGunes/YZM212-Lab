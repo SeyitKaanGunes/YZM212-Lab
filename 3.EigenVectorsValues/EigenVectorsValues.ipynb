{
  "nbformat": 4,
  "nbformat_minor": 0,
  "metadata": {
    "colab": {
      "provenance": []
    },
    "kernelspec": {
      "name": "python3",
      "display_name": "Python 3"
    },
    "language_info": {
      "name": "python"
    }
  },
  "cells": [
    {
      "cell_type": "code",
      "execution_count": 6,
      "metadata": {
        "colab": {
          "base_uri": "https://localhost:8080/"
        },
        "id": "mCsfIf8XJniQ",
        "outputId": "ab85b546-5251-4125-9cd9-e752c97cd25b"
      },
      "outputs": [
        {
          "output_type": "stream",
          "name": "stdout",
          "text": [
            "Custom eigenvalues: [7. 5. 3.]\n",
            "NumPy eigenvalues:  [5. 3. 7.]\n"
          ]
        }
      ],
      "source": [
        "\n",
        "import numpy as np\n",
        "\n",
        "def get_dimensions(matrix):\n",
        "    return [len(matrix), len(matrix[0])]\n",
        "\n",
        "def find_determinant(matrix, excluded=1):\n",
        "    dims = get_dimensions(matrix)\n",
        "    if dims == [2, 2]:\n",
        "        return excluded * ((matrix[0][0] * matrix[1][1]) - (matrix[0][1] * matrix[1][0]))\n",
        "    det = 0\n",
        "    for j in range(dims[1]):\n",
        "\n",
        "        sub = [\n",
        "            [matrix[i][k] for k in range(dims[1]) if k != j]\n",
        "            for i in range(1, dims[0])\n",
        "        ]\n",
        "        coeff = matrix[0][j] * ((-1) ** j)\n",
        "        det += coeff * find_determinant(sub, 1)\n",
        "    return det\n",
        "\n",
        "def polynomial_from_matrix(mat):\n",
        "\n",
        "    dims = get_dimensions(mat)\n",
        "    if dims == [2, 2]:\n",
        "\n",
        "        a, minus_b = mat[0]\n",
        "        c, minus_d = mat[1]\n",
        "\n",
        "        return [a*minus_d - (minus_b)*c, -(a + minus_d), 1]\n",
        "\n",
        "    from itertools import combinations\n",
        "\n",
        "    return list(np.poly(np.linalg.eigvals(np.array([[row[i] for i in range(dims[1])] for row in mat], dtype=float))))\n",
        "\n",
        "def find_eigenvalues_custom(A):\n",
        "\n",
        "    coeffs = np.poly(np.array(A, dtype=float))\n",
        "    return np.roots(coeffs)\n",
        "\n",
        "def compare_with_numpy(A):\n",
        "    custom = find_eigenvalues_custom(A)\n",
        "    numpy_vals, _ = np.linalg.eig(np.array(A, dtype=float))\n",
        "    return custom, numpy_vals\n",
        "\n",
        "if __name__ == \"__main__\":\n",
        "    A = [[6, 1, -1],\n",
        "         [0, 7,  0],\n",
        "         [3, -1, 2]]\n",
        "\n",
        "    custom_vals, numpy_vals = compare_with_numpy(A)\n",
        "    print(\"Custom eigenvalues:\", custom_vals)\n",
        "    print(\"NumPy eigenvalues: \", numpy_vals)\n"
      ]
    }
  ]
}